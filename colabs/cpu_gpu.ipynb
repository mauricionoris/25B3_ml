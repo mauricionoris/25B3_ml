{
  "nbformat": 4,
  "nbformat_minor": 0,
  "metadata": {
    "colab": {
      "provenance": [],
      "include_colab_link": true
    },
    "kernelspec": {
      "name": "python3",
      "display_name": "Python 3"
    },
    "language_info": {
      "name": "python"
    }
  },
  "cells": [
    {
      "cell_type": "markdown",
      "metadata": {
        "id": "view-in-github",
        "colab_type": "text"
      },
      "source": [
        "<a href=\"https://colab.research.google.com/github/mauricionoris/25B3_ml/blob/master/colabs/cpu_gpu.ipynb\" target=\"_parent\"><img src=\"https://colab.research.google.com/assets/colab-badge.svg\" alt=\"Open In Colab\"/></a>"
      ]
    },
    {
      "cell_type": "code",
      "execution_count": null,
      "metadata": {
        "id": "7PFKBHpI6271"
      },
      "outputs": [],
      "source": [
        "import torch\n",
        "import time\n",
        "\n",
        "def train_model(device):\n",
        "    model = torch.nn.Linear(1000, 1000).to(device)\n",
        "    optimizer = torch.optim.SGD(model.parameters(), lr=0.01)\n",
        "    data = torch.randn(10000, 1000).to(device)\n",
        "    target = torch.randn(10000, 1000).to(device)\n",
        "\n",
        "    start_time = time.time()\n",
        "    for _ in range(100):\n",
        "        optimizer.zero_grad()\n",
        "        output = model(data)\n",
        "        loss = torch.nn.functional.mse_loss(output, target)\n",
        "        loss.backward()\n",
        "        optimizer.step()\n",
        "\n",
        "    end_time = time.time()\n",
        "    return end_time - start_time\n",
        "\n",
        "cpu_time = train_model(\"cpu\")\n",
        "gpu_time = train_model(\"cuda\") if torch.cuda.is_available() else None\n",
        "\n",
        "print(f\"Tempo de treinamento na CPU: {cpu_time:.2f} segundos\")\n",
        "if gpu_time:\n",
        "    print(f\"Tempo de treinamento na GPU: {gpu_time:.2f} segundos\")\n",
        "else:\n",
        "    print(\"GPU não disponível.\")"
      ]
    }
  ]
}