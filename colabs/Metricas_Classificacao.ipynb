{
  "nbformat": 4,
  "nbformat_minor": 0,
  "metadata": {
    "colab": {
      "provenance": [],
      "authorship_tag": "ABX9TyMkvR9LxxHhoapCstQTyStO",
      "include_colab_link": true
    },
    "kernelspec": {
      "name": "python3",
      "display_name": "Python 3"
    },
    "language_info": {
      "name": "python"
    }
  },
  "cells": [
    {
      "cell_type": "markdown",
      "metadata": {
        "id": "view-in-github",
        "colab_type": "text"
      },
      "source": [
        "<a href=\"https://colab.research.google.com/github/mauricionoris/25B3_ml/blob/master/colabs/Metricas_Classificacao.ipynb\" target=\"_parent\"><img src=\"https://colab.research.google.com/assets/colab-badge.svg\" alt=\"Open In Colab\"/></a>"
      ]
    },
    {
      "cell_type": "markdown",
      "source": [
        "# Métricas de Avaliação para Classificação em Machine Learning\n",
        "\n",
        "### 1. Acurácia (Accuracy)\n",
        "\n",
        "```math\n",
        "\\text{Acurácia} = \\frac{TP + TN}{TP + TN + FP + FN}\n",
        "```\n",
        "\n",
        "* Mede a proporção de previsões corretas sobre o total.\n",
        "* Útil quando as classes estão balanceadas.\n",
        "\n",
        "---\n",
        "\n",
        "### 2. Precisão (Precision)\n",
        "\n",
        "```math\n",
        "\\text{Precisão} = \\frac{TP}{TP + FP}\n",
        "```\n",
        "\n",
        "* Mede quantas das previsões positivas realmente são positivas.\n",
        "* Importante quando o custo de falsos positivos é alto.\n",
        "\n",
        "---\n",
        "\n",
        "### 3. Revocação (Recall) ou Sensibilidade\n",
        "\n",
        "```math\n",
        "\\text{Recall} = \\frac{TP}{TP + FN}\n",
        "```\n",
        "\n",
        "* Mede quantos dos casos positivos reais foram corretamente classificados.\n",
        "* Importante quando o custo de falsos negativos é alto.\n",
        "\n",
        "---\n",
        "\n",
        "### 4. F1-Score\n",
        "\n",
        "```math\n",
        "F1 = 2 \\cdot \\frac{\\text{Precisão} \\cdot \\text{Recall}}{\\text{Precisão} + \\text{Recall}}\n",
        "```\n",
        "\n",
        "* Média harmônica entre precisão e recall.\n",
        "* Útil quando há desbalanceamento de classes.\n",
        "\n",
        "---\n",
        "\n",
        "### 5. Matriz de Confusão\n",
        "\n",
        "* Tabela que mostra:\n",
        "\n",
        "  * Verdadeiros Positivos (TP)\n",
        "  * Falsos Positivos (FP)\n",
        "  * Verdadeiros Negativos (TN)\n",
        "  * Falsos Negativos (FN)\n",
        "* Ajuda a entender os tipos de erro do modelo.\n",
        "\n",
        "---\n",
        "\n",
        "### 6. Curva ROC e AUC\n",
        "\n",
        "* **Curva ROC**: Gráfico entre a taxa de verdadeiros positivos (TPR) e a taxa de falsos positivos (FPR).\n",
        "* **AUC (Area Under the Curve)**: Mede a capacidade do modelo de separar as classes em todos os thresholds.\n",
        "\n",
        "\n"
      ],
      "metadata": {
        "id": "DotTQxSl9K1z"
      }
    },
    {
      "cell_type": "markdown",
      "source": [
        "# Exemplo"
      ],
      "metadata": {
        "id": "tRY1lnLO-Zhc"
      }
    },
    {
      "cell_type": "code",
      "source": [
        "y_true = [1, 0, 1, 1, 0, 1, 0, 0, 1, 0]\n",
        "y_pred = [1, 0, 1, 0, 0, 1, 1, 0, 1, 0]\n",
        "\n"
      ],
      "metadata": {
        "id": "RB_cmr2q-Yei"
      },
      "execution_count": null,
      "outputs": []
    },
    {
      "cell_type": "markdown",
      "source": [
        "\n",
        "## 1. Matriz de Confusão\n",
        "\n",
        "|        | Predito 0 | Predito 1 |\n",
        "| ------ | --------- | --------- |\n",
        "| Real 0 | TN = 4    | FP = 1    |\n",
        "| Real 1 | FN = 1    | TP = 4    |\n",
        "\n",
        "Contagem manual:\n",
        "\n",
        "* **TP (1 predito como 1)**: posições 0, 2, 5, 8 → 4 casos\n",
        "* **TN (0 predito como 0)**: posições 1, 4, 7, 9 → 4 casos\n",
        "* **FP (0 predito como 1)**: posição 6 → 1 caso\n",
        "* **FN (1 predito como 0)**: posição 3 → 1 caso\n",
        "\n",
        "---\n",
        "\n",
        "## 2. Acurácia (Accuracy)\n",
        "\n",
        "$$\n",
        "\\text{Accuracy} = \\frac{TP + TN}{TP + TN + FP + FN} = \\frac{4 + 4}{4 + 4 + 1 + 1} = \\frac{8}{10} = 0.80\n",
        "$$\n",
        "\n",
        "---\n",
        "\n",
        "## 3. Precisão (Precision)\n",
        "\n",
        "$$\n",
        "\\text{Precision} = \\frac{TP}{TP + FP} = \\frac{4}{4 + 1} = \\frac{4}{5} = 0.80\n",
        "$$\n",
        "\n",
        "---\n",
        "\n",
        "## 4. Revocação (Recall / Sensibilidade)\n",
        "\n",
        "$$\n",
        "\\text{Recall} = \\frac{TP}{TP + FN} = \\frac{4}{4 + 1} = \\frac{4}{5} = 0.80\n",
        "$$\n",
        "\n",
        "---\n",
        "\n",
        "## 5. F1-Score\n",
        "\n",
        "$$\n",
        "F1 = 2 \\cdot \\frac{Precision \\cdot Recall}{Precision + Recall}\n",
        "= 2 \\cdot \\frac{0.80 \\cdot 0.80}{0.80 + 0.80}\n",
        "= 2 \\cdot \\frac{0.64}{1.6}\n",
        "= 2 \\cdot 0.4 = 0.80\n",
        "$$\n",
        "\n",
        "---\n",
        "\n",
        "## 6. AUC (Área sob a Curva ROC)\n",
        "\n",
        "Para calcular o AUC manualmente, precisamos das **probabilidades** previstas, não apenas os rótulos.\n",
        "Mas vamos supor agora que temos também:\n",
        "\n",
        "```python\n",
        "y_proba = [0.9, 0.3, 0.8, 0.4, 0.1, 0.95, 0.7, 0.2, 0.85, 0.05]\n",
        "```\n",
        "\n",
        "Podemos usar o `roc_auc_score` para calcular o valor exato:\n",
        "\n",
        "```python\n",
        "from sklearn.metrics import roc_auc_score\n",
        "auc = roc_auc_score(y_true, y_proba)\n",
        "print(f\"AUC: {auc:.2f}\")\n",
        "```\n",
        "\n",
        "Resultado aproximado (ao rodar):\n",
        "\n",
        "```\n",
        "AUC: 0.98\n",
        "```\n",
        "\n",
        "> Isso mostra que o modelo ordena muito bem as probabilidades dos positivos acima dos negativos, mesmo que cometa alguns erros de threshold.\n",
        "\n",
        "---\n",
        "\n",
        "### Conclusão (manual):\n",
        "\n",
        "* **Acurácia** = 0.80\n",
        "* **Precisão** = 0.80\n",
        "* **Recall** = 0.80\n",
        "* **F1-score** = 0.80\n",
        "* **AUC** ≈ 0.98 (baseado em probabilidades)\n",
        "\n"
      ],
      "metadata": {
        "id": "RbnOZIq9-bY4"
      }
    },
    {
      "cell_type": "markdown",
      "source": [
        "# Exemplo 2"
      ],
      "metadata": {
        "id": "9msOhJK0-agG"
      }
    },
    {
      "cell_type": "code",
      "source": [
        "import numpy as np\n",
        "import matplotlib.pyplot as plt\n",
        "from sklearn.datasets import load_breast_cancer\n",
        "from sklearn.ensemble import RandomForestClassifier\n",
        "from sklearn.metrics import (\n",
        "    accuracy_score,\n",
        "    precision_score,\n",
        "    recall_score,\n",
        "    f1_score,\n",
        "    confusion_matrix,\n",
        "    ConfusionMatrixDisplay,\n",
        "    roc_curve,\n",
        "    roc_auc_score\n",
        ")\n",
        "from sklearn.model_selection import train_test_split\n",
        "\n",
        "# 1. Carregar os dados\n",
        "data = load_breast_cancer()\n",
        "X, y = data.data, data.target\n",
        "\n",
        "# 2. Dividir em treino e teste\n",
        "X_train, X_test, y_train, y_test = train_test_split(X, y, test_size=0.2, random_state=42)\n",
        "\n",
        "# 3. Treinar o modelo\n",
        "model = RandomForestClassifier(random_state=42)\n",
        "model.fit(X_train, y_train)\n",
        "\n",
        "# 4. Prever no conjunto de teste\n",
        "y_pred = model.predict(X_test)\n",
        "y_proba = model.predict_proba(X_test)[:, 1]  # Probabilidades para a classe positiva\n",
        "\n",
        "# 5. Calcular métricas\n",
        "acc = accuracy_score(y_test, y_pred)\n",
        "prec = precision_score(y_test, y_pred)\n",
        "rec = recall_score(y_test, y_pred)\n",
        "f1 = f1_score(y_test, y_pred)\n",
        "cm = confusion_matrix(y_test, y_pred)\n",
        "auc = roc_auc_score(y_test, y_proba)\n",
        "\n",
        "# 6. Exibir resultados\n",
        "print(f\"Acurácia:  {acc:.4f}\")\n",
        "print(f\"Precisão:  {prec:.4f}\")\n",
        "print(f\"Recall:    {rec:.4f}\")\n",
        "print(f\"F1-Score:  {f1:.4f}\")\n",
        "print(f\"AUC-ROC:   {auc:.4f}\")\n",
        "\n"
      ],
      "metadata": {
        "colab": {
          "base_uri": "https://localhost:8080/"
        },
        "id": "UXXSgr9W9US5",
        "outputId": "2644bd7c-f377-4c8f-94ec-74f885cfa090"
      },
      "execution_count": 2,
      "outputs": [
        {
          "output_type": "stream",
          "name": "stdout",
          "text": [
            "Acurácia:  0.9649\n",
            "Precisão:  0.9589\n",
            "Recall:    0.9859\n",
            "F1-Score:  0.9722\n",
            "AUC-ROC:   0.9953\n"
          ]
        }
      ]
    },
    {
      "cell_type": "code",
      "source": [
        "# 7. Matriz de Confusão\n",
        "disp = ConfusionMatrixDisplay(confusion_matrix=cm, display_labels=data.target_names)\n",
        "disp.plot(cmap=\"Blues\")\n",
        "plt.title(\"Matriz de Confusão\")\n",
        "plt.show()\n",
        "\n",
        "\n"
      ],
      "metadata": {
        "colab": {
          "base_uri": "https://localhost:8080/",
          "height": 472
        },
        "id": "-mW4eDH6_m1b",
        "outputId": "f292383a-f6fd-44f1-9bae-a879b6537252"
      },
      "execution_count": 3,
      "outputs": [
        {
          "output_type": "display_data",
          "data": {
            "text/plain": [
              "<Figure size 640x480 with 2 Axes>"
            ],
            "image/png": "[encoded data removed]"
          },
          "metadata": {}
        }
      ]
    },
    {
      "cell_type": "code",
      "source": [
        "# 8. Curva ROC\n",
        "fpr, tpr, thresholds = roc_curve(y_test, y_proba)\n",
        "plt.figure()\n",
        "plt.plot(fpr, tpr, label=f\"ROC Curve (AUC = {auc:.2f})\")\n",
        "plt.plot([0, 1], [0, 1], linestyle=\"--\", color=\"gray\")\n",
        "plt.xlabel(\"Falso Positivo (FPR)\")\n",
        "plt.ylabel(\"Verdadeiro Positivo (TPR)\")\n",
        "plt.title(\"Curva ROC\")\n",
        "plt.legend(loc=\"lower right\")\n",
        "plt.grid(True)\n",
        "plt.show()"
      ],
      "metadata": {
        "colab": {
          "base_uri": "https://localhost:8080/",
          "height": 472
        },
        "id": "VYw50Mhq_pWc",
        "outputId": "9727baf0-5941-481d-e42f-bfeed268e04d"
      },
      "execution_count": 4,
      "outputs": [
        {
          "output_type": "display_data",
          "data": {
            "text/plain": [
              "<Figure size 640x480 with 1 Axes>"
            ],
            "image/png": "[encoded data removed]"
          },
          "metadata": {}
        }
      ]
    },
    {
      "cell_type": "markdown",
      "source": [
        "\n",
        "## O que é a Curva ROC?\n",
        "\n",
        "**ROC** significa **Receiver Operating Characteristic**.\n",
        "\n",
        "É uma **curva** que mostra a performance de um classificador binário em diferentes limiares (thresholds) de decisão.\n",
        "\n",
        "### Eixos da Curva:\n",
        "\n",
        "* **Eixo X (FPR)**: Falso Positivo Rate\n",
        "\n",
        "  $$\n",
        "  FPR = \\frac{FP}{FP + TN}\n",
        "  $$\n",
        "\n",
        "* **Eixo Y (TPR)**: Verdadeiro Positivo Rate (também chamado de **Recall**)\n",
        "\n",
        "  $$\n",
        "  TPR = \\frac{TP}{TP + FN}\n",
        "  $$\n",
        "\n",
        "### Como a curva é construída:\n",
        "\n",
        "1. O modelo retorna **probabilidades** (não só 0 ou 1).\n",
        "2. Varia-se o **threshold** para decidir quando considerar uma previsão como \"classe 1\".\n",
        "3. Para cada threshold, calcula-se o TPR e o FPR.\n",
        "4. Plota-se TPR vs FPR → isso é a curva ROC.\n",
        "\n",
        "---\n",
        "\n",
        "## O que é o AUC (Area Under the Curve)?\n",
        "\n",
        "* **AUC (Área sob a Curva ROC)** mede **a capacidade do modelo de separar as classes**.\n",
        "* Varia de **0 a 1**:\n",
        "\n",
        "  * **1.0**: separação perfeita (modelo ideal)\n",
        "  * **0.5**: aleatório (modelo ruim)\n",
        "  * **< 0.5**: pior que aleatório (inversão completa)\n",
        "\n",
        "---\n",
        "\n",
        "## Interpretação da AUC:\n",
        "\n",
        "* **AUC = 0.90** → significa que, dado um par (exemplo positivo, exemplo negativo), o modelo tem 90% de chance de **atribuir probabilidade maior ao exemplo positivo**.\n",
        "* **Quanto maior a AUC**, melhor o modelo consegue **diferenciar as classes**.\n",
        "\n",
        "---\n",
        "\n",
        "## Exemplo gráfico:\n",
        "\n",
        "* Uma curva ROC **próxima do canto superior esquerdo** indica um **bom classificador**.\n",
        "* A linha diagonal (45º) indica **modelo aleatório**.\n",
        "* Abaixo dessa linha → modelo pior que aleatório (inverso).\n",
        "\n",
        "---\n",
        "\n",
        "## Quando usar ROC e AUC?\n",
        "\n",
        "* Quando o **modelo retorna probabilidades**, e você quer avaliar o desempenho **em vários thresholds**.\n",
        "* Quando você está lidando com **classes desbalanceadas**, o AUC é **mais informativo** do que a acurácia.\n",
        "\n"
      ],
      "metadata": {
        "id": "a5CQ3QGF-GPW"
      }
    },
    {
      "cell_type": "markdown",
      "source": [
        "# Exercícios"
      ],
      "metadata": {
        "id": "a_0i8kJy_1SY"
      }
    },
    {
      "cell_type": "markdown",
      "source": [
        "\n",
        "## Exercício 1: Classificação de Diabetes\n",
        "\n",
        "### Dataset:\n",
        "\n",
        "[Kaggle - Pima Indians Diabetes Database](https://www.kaggle.com/datasets/uciml/pima-indians-diabetes-database)\n",
        "\n",
        "### Objetivo:\n",
        "\n",
        "Prever se uma paciente tem ou não diabetes com base em dados clínicos.\n",
        "\n",
        "### Instruções:\n",
        "\n",
        "1. Carregue o dataset.\n",
        "2. Divida os dados em treino (80%) e teste (20%).\n",
        "3. Treine um modelo de classificação (sugestão: `RandomForestClassifier` ou `LogisticRegression`).\n",
        "4. Avalie o desempenho do modelo com as métricas:\n",
        "\n",
        "   * Acurácia\n",
        "   * Precisão\n",
        "   * Recall\n",
        "   * F1-score\n",
        "   * Matriz de Confusão\n",
        "   * Curva ROC e AUC\n",
        "\n",
        "### Extra:\n",
        "\n",
        "* Tente ajustar o limiar de decisão (`threshold`) e observe como as métricas variam.\n"
      ],
      "metadata": {
        "id": "SGr0zxykAfBM"
      }
    },
    {
      "cell_type": "markdown",
      "source": [
        "## Exercício 2 - Previsão de Emoções em Texto --> DESAFIO <--\n",
        "\n",
        "### Dataset:\n",
        "\n",
        "[Kaggle - Emotion Dataset for NLP](https://www.kaggle.com/datasets/praveengovi/emotions-dataset-for-nlp)\n",
        "\n",
        "### Descrição:\n",
        "\n",
        "Dataset contendo frases curtas em inglês associadas a uma emoção, como *joy*, *sadness*, *anger*, *fear*, etc.\n",
        "\n",
        "### Objetivo:\n",
        "\n",
        "Prever a emoção de uma frase com base no seu conteúdo textual.\n",
        "\n",
        "### Tarefa:\n",
        "\n",
        "Transforme o problema em uma **classificação binária**:\n",
        "\n",
        "* Por exemplo, classifique se a frase expressa ou não **\"anger\"** (raiva).\n",
        "\n",
        "  * 1 se a emoção é \"anger\"\n",
        "  * 0 caso contrário\n",
        "\n",
        "---\n",
        "\n",
        "### Instruções:\n",
        "\n",
        "1. Baixe o dataset do Kaggle e carregue-o no notebook.\n",
        "2. Converta o problema para binário (anger vs. not-anger).\n",
        "3. Faça o pré-processamento textual:\n",
        "\n",
        "   * Minúsculas, remoção de pontuação, stopwords, etc.\n",
        "4. Transforme os textos em vetores (`TfidfVectorizer` ou `CountVectorizer`).\n",
        "5. Divida em treino e teste (ex: 80/20).\n",
        "6. Treine um modelo de classificação (`LogisticRegression`, `NaiveBayes`, etc).\n",
        "7. Avalie o desempenho com:\n",
        "\n",
        "   * Acurácia\n",
        "   * Precisão\n",
        "   * Recall\n",
        "   * F1-score\n",
        "   * Matriz de Confusão\n",
        "   * Curva ROC e AUC\n",
        "\n",
        "---\n",
        "\n",
        "### Extra:\n",
        "\n",
        "* Compare o desempenho com e sem stemming/lemmatização.\n",
        "* Tente outras emoções além de \"anger\" (ex: \"joy\" ou \"sadness\").\n",
        "\n",
        "\n"
      ],
      "metadata": {
        "id": "xHWEue3uArtg"
      }
    },
    {
      "cell_type": "code",
      "source": [],
      "metadata": {
        "id": "uFMUJyYs9pLy"
      },
      "execution_count": null,
      "outputs": []
    }
  ]
}